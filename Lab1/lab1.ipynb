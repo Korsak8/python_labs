{
 "cells": [
  {
   "cell_type": "markdown",
   "metadata": {},
   "source": [
    "\n",
    "### <center>**ЛАБОРАТОРНА РОБОТА №1 <br>Аналіз даних з використанням бібліотеки Pandas**</center>"
   ]
  },
  {
   "cell_type": "markdown",
   "metadata": {},
   "source": [
    "Імпортуємо необхідні бібліотеки"
   ]
  },
  {
   "cell_type": "code",
   "execution_count": 21,
   "metadata": {},
   "outputs": [],
   "source": [
    "import numpy as np \n",
    "import pandas as pd\n",
    "import warnings\n",
    "warnings.filterwarnings(\"ignore\")"
   ]
  },
  {
   "cell_type": "markdown",
   "metadata": {},
   "source": [
    "Завантажуємо csv файли та дивимось зміст кожного"
   ]
  },
  {
   "cell_type": "code",
   "execution_count": 22,
   "metadata": {},
   "outputs": [
    {
     "name": "stdout",
     "output_type": "stream",
     "text": [
      "<class 'pandas.core.frame.DataFrame'>\n",
      "RangeIndex: 236065 entries, 0 to 236064\n",
      "Data columns (total 12 columns):\n",
      " #   Column             Non-Null Count   Dtype  \n",
      "---  ------             --------------   -----  \n",
      " 0   trip_id            236065 non-null  int64  \n",
      " 1   starttime          236065 non-null  object \n",
      " 2   stoptime           236065 non-null  object \n",
      " 3   bikeid             236065 non-null  object \n",
      " 4   tripduration       236065 non-null  float64\n",
      " 5   from_station_name  236065 non-null  object \n",
      " 6   to_station_name    236065 non-null  object \n",
      " 7   from_station_id    236065 non-null  object \n",
      " 8   to_station_id      236065 non-null  object \n",
      " 9   usertype           236065 non-null  object \n",
      " 10  gender             146171 non-null  object \n",
      " 11  birthyear          146167 non-null  float64\n",
      "dtypes: float64(2), int64(1), object(9)\n",
      "memory usage: 21.6+ MB\n"
     ]
    }
   ],
   "source": [
    "df_trip = pd.read_csv('2016_trip_data.csv')\n",
    "df_trip.info()"
   ]
  },
  {
   "cell_type": "code",
   "execution_count": 23,
   "metadata": {},
   "outputs": [
    {
     "name": "stdout",
     "output_type": "stream",
     "text": [
      "<class 'pandas.core.frame.DataFrame'>\n",
      "RangeIndex: 689 entries, 0 to 688\n",
      "Data columns (total 21 columns):\n",
      " #   Column                       Non-Null Count  Dtype  \n",
      "---  ------                       --------------  -----  \n",
      " 0   Date                         689 non-null    object \n",
      " 1   Max_Temperature_F            689 non-null    int64  \n",
      " 2   Mean_Temperature_F           688 non-null    float64\n",
      " 3   Min_TemperatureF             689 non-null    int64  \n",
      " 4   Max_Dew_Point_F              689 non-null    int64  \n",
      " 5   MeanDew_Point_F              689 non-null    int64  \n",
      " 6   Min_Dewpoint_F               689 non-null    int64  \n",
      " 7   Max_Humidity                 689 non-null    int64  \n",
      " 8   Mean_Humidity                689 non-null    int64  \n",
      " 9   Min_Humidity                 689 non-null    int64  \n",
      " 10  Max_Sea_Level_Pressure_In    689 non-null    float64\n",
      " 11  Mean_Sea_Level_Pressure_In   689 non-null    float64\n",
      " 12  Min_Sea_Level_Pressure_In    689 non-null    float64\n",
      " 13  Max_Visibility_Miles         689 non-null    int64  \n",
      " 14  Mean_Visibility_Miles        689 non-null    int64  \n",
      " 15  Min_Visibility_Miles         689 non-null    int64  \n",
      " 16  Max_Wind_Speed_MPH           689 non-null    int64  \n",
      " 17  Mean_Wind_Speed_MPH          689 non-null    int64  \n",
      " 18  Max_Gust_Speed_MPH           504 non-null    object \n",
      " 19  Precipitation_In             689 non-null    float64\n",
      " 20  Events                       328 non-null    object \n",
      "dtypes: float64(5), int64(13), object(3)\n",
      "memory usage: 113.2+ KB\n"
     ]
    }
   ],
   "source": [
    "df_weather = pd.read_csv('2016_weather_data.csv')\n",
    "df_weather.info()"
   ]
  },
  {
   "cell_type": "markdown",
   "metadata": {},
   "source": [
    "Змінюємо тип даних для деяких стовпців"
   ]
  },
  {
   "cell_type": "code",
   "execution_count": 24,
   "metadata": {},
   "outputs": [
    {
     "name": "stdout",
     "output_type": "stream",
     "text": [
      "<class 'pandas.core.frame.DataFrame'>\n",
      "RangeIndex: 236065 entries, 0 to 236064\n",
      "Data columns (total 12 columns):\n",
      " #   Column             Non-Null Count   Dtype         \n",
      "---  ------             --------------   -----         \n",
      " 0   trip_id            236065 non-null  int64         \n",
      " 1   starttime          236065 non-null  datetime64[ns]\n",
      " 2   stoptime           236065 non-null  datetime64[ns]\n",
      " 3   bikeid             236065 non-null  object        \n",
      " 4   tripduration       236065 non-null  float64       \n",
      " 5   from_station_name  236065 non-null  object        \n",
      " 6   to_station_name    236065 non-null  object        \n",
      " 7   from_station_id    236065 non-null  object        \n",
      " 8   to_station_id      236065 non-null  object        \n",
      " 9   usertype           236065 non-null  category      \n",
      " 10  gender             146171 non-null  category      \n",
      " 11  birthyear          146167 non-null  float64       \n",
      "dtypes: category(2), datetime64[ns](2), float64(2), int64(1), object(5)\n",
      "memory usage: 18.5+ MB\n"
     ]
    }
   ],
   "source": [
    "df_trip = df_trip.astype({'starttime':'datetime64[ns]','stoptime':'datetime64[ns]', 'usertype': 'category','gender':'category'})\n",
    "df_trip.info()"
   ]
  },
  {
   "cell_type": "code",
   "execution_count": 25,
   "metadata": {},
   "outputs": [
    {
     "name": "stdout",
     "output_type": "stream",
     "text": [
      "<class 'pandas.core.frame.DataFrame'>\n",
      "RangeIndex: 689 entries, 0 to 688\n",
      "Data columns (total 21 columns):\n",
      " #   Column                       Non-Null Count  Dtype         \n",
      "---  ------                       --------------  -----         \n",
      " 0   Date                         689 non-null    datetime64[ns]\n",
      " 1   Max_Temperature_F            689 non-null    int64         \n",
      " 2   Mean_Temperature_F           688 non-null    float64       \n",
      " 3   Min_TemperatureF             689 non-null    int64         \n",
      " 4   Max_Dew_Point_F              689 non-null    int64         \n",
      " 5   MeanDew_Point_F              689 non-null    int64         \n",
      " 6   Min_Dewpoint_F               689 non-null    int64         \n",
      " 7   Max_Humidity                 689 non-null    int64         \n",
      " 8   Mean_Humidity                689 non-null    int64         \n",
      " 9   Min_Humidity                 689 non-null    int64         \n",
      " 10  Max_Sea_Level_Pressure_In    689 non-null    float64       \n",
      " 11  Mean_Sea_Level_Pressure_In   689 non-null    float64       \n",
      " 12  Min_Sea_Level_Pressure_In    689 non-null    float64       \n",
      " 13  Max_Visibility_Miles         689 non-null    int64         \n",
      " 14  Mean_Visibility_Miles        689 non-null    int64         \n",
      " 15  Min_Visibility_Miles         689 non-null    int64         \n",
      " 16  Max_Wind_Speed_MPH           689 non-null    int64         \n",
      " 17  Mean_Wind_Speed_MPH          689 non-null    int64         \n",
      " 18  Max_Gust_Speed_MPH           504 non-null    object        \n",
      " 19  Precipitation_In             689 non-null    float64       \n",
      " 20  Events                       328 non-null    category      \n",
      "dtypes: category(1), datetime64[ns](1), float64(5), int64(13), object(1)\n",
      "memory usage: 108.8+ KB\n"
     ]
    }
   ],
   "source": [
    "df_weather = df_weather.astype({'Date':'datetime64[ns]', 'Events': 'category'})\n",
    "df_weather.info()"
   ]
  },
  {
   "cell_type": "markdown",
   "metadata": {},
   "source": [
    "Виводимо перші п'ять строк таблиці"
   ]
  },
  {
   "cell_type": "code",
   "execution_count": 26,
   "metadata": {},
   "outputs": [
    {
     "data": {
      "text/html": [
       "<div>\n",
       "<style scoped>\n",
       "    .dataframe tbody tr th:only-of-type {\n",
       "        vertical-align: middle;\n",
       "    }\n",
       "\n",
       "    .dataframe tbody tr th {\n",
       "        vertical-align: top;\n",
       "    }\n",
       "\n",
       "    .dataframe thead th {\n",
       "        text-align: right;\n",
       "    }\n",
       "</style>\n",
       "<table border=\"1\" class=\"dataframe\">\n",
       "  <thead>\n",
       "    <tr style=\"text-align: right;\">\n",
       "      <th></th>\n",
       "      <th>trip_id</th>\n",
       "      <th>starttime</th>\n",
       "      <th>stoptime</th>\n",
       "      <th>tripduration</th>\n",
       "      <th>gender</th>\n",
       "    </tr>\n",
       "  </thead>\n",
       "  <tbody>\n",
       "    <tr>\n",
       "      <th>0</th>\n",
       "      <td>431</td>\n",
       "      <td>2014-10-13 10:31:00</td>\n",
       "      <td>2014-10-13 10:48:00</td>\n",
       "      <td>985.935</td>\n",
       "      <td>Male</td>\n",
       "    </tr>\n",
       "    <tr>\n",
       "      <th>1</th>\n",
       "      <td>432</td>\n",
       "      <td>2014-10-13 10:32:00</td>\n",
       "      <td>2014-10-13 10:48:00</td>\n",
       "      <td>926.375</td>\n",
       "      <td>Male</td>\n",
       "    </tr>\n",
       "    <tr>\n",
       "      <th>2</th>\n",
       "      <td>433</td>\n",
       "      <td>2014-10-13 10:33:00</td>\n",
       "      <td>2014-10-13 10:48:00</td>\n",
       "      <td>883.831</td>\n",
       "      <td>Female</td>\n",
       "    </tr>\n",
       "    <tr>\n",
       "      <th>3</th>\n",
       "      <td>434</td>\n",
       "      <td>2014-10-13 10:34:00</td>\n",
       "      <td>2014-10-13 10:48:00</td>\n",
       "      <td>865.937</td>\n",
       "      <td>Female</td>\n",
       "    </tr>\n",
       "    <tr>\n",
       "      <th>4</th>\n",
       "      <td>435</td>\n",
       "      <td>2014-10-13 10:34:00</td>\n",
       "      <td>2014-10-13 10:49:00</td>\n",
       "      <td>923.923</td>\n",
       "      <td>Male</td>\n",
       "    </tr>\n",
       "  </tbody>\n",
       "</table>\n",
       "</div>"
      ],
      "text/plain": [
       "   trip_id           starttime            stoptime  tripduration  gender\n",
       "0      431 2014-10-13 10:31:00 2014-10-13 10:48:00       985.935    Male\n",
       "1      432 2014-10-13 10:32:00 2014-10-13 10:48:00       926.375    Male\n",
       "2      433 2014-10-13 10:33:00 2014-10-13 10:48:00       883.831  Female\n",
       "3      434 2014-10-13 10:34:00 2014-10-13 10:48:00       865.937  Female\n",
       "4      435 2014-10-13 10:34:00 2014-10-13 10:49:00       923.923    Male"
      ]
     },
     "execution_count": 26,
     "metadata": {},
     "output_type": "execute_result"
    }
   ],
   "source": [
    "df_trip[['trip_id','starttime','stoptime','tripduration','gender']].head()"
   ]
  },
  {
   "cell_type": "markdown",
   "metadata": {},
   "source": [
    "Значення категоріальних змінних у trip_data"
   ]
  },
  {
   "cell_type": "code",
   "execution_count": 27,
   "metadata": {},
   "outputs": [
    {
     "data": {
      "text/plain": [
       "['Member', 'Short-Term Pass Holder']\n",
       "Categories (2, object): ['Member', 'Short-Term Pass Holder']"
      ]
     },
     "execution_count": 27,
     "metadata": {},
     "output_type": "execute_result"
    }
   ],
   "source": [
    "df_trip['usertype'].unique()"
   ]
  },
  {
   "cell_type": "code",
   "execution_count": 28,
   "metadata": {},
   "outputs": [
    {
     "data": {
      "text/plain": [
       "['Male', 'Female', 'Other', NaN]\n",
       "Categories (3, object): ['Female', 'Male', 'Other']"
      ]
     },
     "execution_count": 28,
     "metadata": {},
     "output_type": "execute_result"
    }
   ],
   "source": [
    "df_trip['gender'].unique()"
   ]
  },
  {
   "cell_type": "markdown",
   "metadata": {},
   "source": [
    "Фільтруємо датасет"
   ]
  },
  {
   "cell_type": "code",
   "execution_count": 29,
   "metadata": {},
   "outputs": [
    {
     "data": {
      "text/plain": [
       "trip_id                  0\n",
       "starttime                0\n",
       "stoptime                 0\n",
       "bikeid                   0\n",
       "tripduration             0\n",
       "from_station_name        0\n",
       "to_station_name          0\n",
       "from_station_id          0\n",
       "to_station_id            0\n",
       "usertype                 0\n",
       "gender               73891\n",
       "birthyear            73895\n",
       "dtype: int64"
      ]
     },
     "execution_count": 29,
     "metadata": {},
     "output_type": "execute_result"
    }
   ],
   "source": [
    "new_df_trip = df_trip[df_trip['from_station_name']!=df_trip['to_station_name']]\n",
    "new_df_trip.isna().sum()"
   ]
  },
  {
   "cell_type": "code",
   "execution_count": 30,
   "metadata": {},
   "outputs": [
    {
     "data": {
      "text/plain": [
       "['Rain', 'Rain-Snow', 'Fog', 'Fog-Rain', 'Rain-Thunderstorm', 'Snow']\n",
       "Categories (6, object): ['Fog', 'Fog-Rain', 'Rain', 'Rain-Snow', 'Rain-Thunderstorm', 'Snow']"
      ]
     },
     "execution_count": 30,
     "metadata": {},
     "output_type": "execute_result"
    }
   ],
   "source": [
    "df_weather.loc[df_weather['Events'] == 'Fog , Rain', 'Events'] = 'Fog-Rain'\n",
    "df_weather.loc[df_weather['Events'] == 'Rain , Snow', 'Events'] = 'Rain-Snow'\n",
    "df_weather.loc[df_weather['Events'] == 'Rain , Thunderstorm', 'Events'] = 'Rain-Thunderstorm'\n",
    "df_weather['Events'] = pd.Categorical(df_weather['Events']).remove_unused_categories()\n",
    "df_weather.dropna(subset='Events',inplace=True)\n",
    "df_weather['Events'].unique()"
   ]
  },
  {
   "cell_type": "code",
   "execution_count": 31,
   "metadata": {},
   "outputs": [
    {
     "data": {
      "text/plain": [
       "Events\n",
       "Fog                   16\n",
       "Fog-Rain              13\n",
       "Rain                 287\n",
       "Rain-Snow              3\n",
       "Rain-Thunderstorm      7\n",
       "Snow                   2\n",
       "Name: Date, dtype: int64"
      ]
     },
     "execution_count": 31,
     "metadata": {},
     "output_type": "execute_result"
    }
   ],
   "source": [
    "df_weather.groupby('Events')['Date'].agg('count')"
   ]
  },
  {
   "cell_type": "markdown",
   "metadata": {},
   "source": [
    "### Найпопулярніші пари станцій та завантаження у Excel"
   ]
  },
  {
   "cell_type": "code",
   "execution_count": 32,
   "metadata": {},
   "outputs": [
    {
     "data": {
      "text/plain": [
       "sorted_trip\n",
       "(Pier 69 / Alaskan Way & Clay St, Seattle Aquarium / Alaskan Way S & Elliott Bay Trail)              3896\n",
       "(2nd Ave & Pine St, 3rd Ave & Broad St)                                                              2063\n",
       "(King Street Station Plaza / 2nd Ave Extension S & S Jackson St, Pier 69 / Alaskan Way & Clay St)    1699\n",
       "(1st Ave & Marion St, Pier 69 / Alaskan Way & Clay St)                                               1486\n",
       "(Dexter Ave N & Aloha St, Republican St & Westlake Ave N)                                            1374\n",
       "dtype: int64"
      ]
     },
     "execution_count": 32,
     "metadata": {},
     "output_type": "execute_result"
    }
   ],
   "source": [
    "new_df_trip['sorted_trip'] = new_df_trip[['from_station_name', 'to_station_name']].apply(lambda x: tuple(sorted(x)), axis=1)\n",
    "pairs_of_stations = new_df_trip.groupby(['sorted_trip']).size()\n",
    "pairs_of_stations.to_excel('station_trip.xlsx')\n",
    "pairs_of_stations.nlargest()"
   ]
  },
  {
   "cell_type": "markdown",
   "metadata": {},
   "source": [
    "### 1. Визначте дату з максимальною кількістю поїздок. Згенеруйте таблицю кількості поїздок за датами"
   ]
  },
  {
   "cell_type": "code",
   "execution_count": 33,
   "metadata": {},
   "outputs": [
    {
     "data": {
      "text/plain": [
       "starttime\n",
       "2015-04-20    870\n",
       "2015-04-19    658\n",
       "2015-07-17    657\n",
       "2015-05-09    650\n",
       "2015-07-04    642\n",
       "Name: starttime, dtype: int64"
      ]
     },
     "execution_count": 33,
     "metadata": {},
     "output_type": "execute_result"
    }
   ],
   "source": [
    "new_df_trip.groupby(new_df_trip['starttime'].dt.date)['starttime'].count().nlargest()"
   ]
  },
  {
   "cell_type": "markdown",
   "metadata": {},
   "source": [
    "### 2. Визначте місяць з максимальною кількістю поїздок. Згенеруйте таблицю кількості поїздок за місяцями"
   ]
  },
  {
   "cell_type": "code",
   "execution_count": 34,
   "metadata": {},
   "outputs": [
    {
     "data": {
      "text/plain": [
       "starttime\n",
       "July      29090\n",
       "August    27532\n",
       "June      25046\n",
       "May       23492\n",
       "April     19816\n",
       "Name: starttime, dtype: int64"
      ]
     },
     "execution_count": 34,
     "metadata": {},
     "output_type": "execute_result"
    }
   ],
   "source": [
    "new_df_trip.groupby(new_df_trip['starttime'].dt.strftime('%B'))['starttime'].count().nlargest()"
   ]
  },
  {
   "cell_type": "markdown",
   "metadata": {},
   "source": [
    "### 3. Визначте день тижня з максимальною кількістю поїздок. Згенеруйте таблицю кількості поїздок за днями тижня"
   ]
  },
  {
   "cell_type": "code",
   "execution_count": 35,
   "metadata": {},
   "outputs": [
    {
     "data": {
      "text/plain": [
       "starttime\n",
       "Thursday     33996\n",
       "Friday       33436\n",
       "Wednesday    33295\n",
       "Tuesday      32999\n",
       "Monday       32320\n",
       "Name: starttime, dtype: int64"
      ]
     },
     "execution_count": 35,
     "metadata": {},
     "output_type": "execute_result"
    }
   ],
   "source": [
    "new_df_trip.groupby(new_df_trip['starttime'].dt.strftime('%A'))['starttime'].count().nlargest()"
   ]
  },
  {
   "cell_type": "markdown",
   "metadata": {},
   "source": [
    "### 4. Розрахуйте загальну кількість поїздок за гендерною приналежністю та згенеруйте відповідну таблицю розподілу"
   ]
  },
  {
   "cell_type": "code",
   "execution_count": 36,
   "metadata": {},
   "outputs": [
    {
     "data": {
      "text/plain": [
       "gender\n",
       "Male      110724\n",
       "Female     29360\n",
       "Other       2809\n",
       "Name: gender, dtype: int64"
      ]
     },
     "execution_count": 36,
     "metadata": {},
     "output_type": "execute_result"
    }
   ],
   "source": [
    "new_df_trip.groupby('gender')['gender'].count().nlargest()"
   ]
  },
  {
   "cell_type": "markdown",
   "metadata": {},
   "source": [
    "### 5. Визначте рік в якому кількість поїздок була максимальною. Згенеруйте таблицю кількості поїздок за роками"
   ]
  },
  {
   "cell_type": "code",
   "execution_count": 37,
   "metadata": {},
   "outputs": [
    {
     "data": {
      "text/plain": [
       "starttime\n",
       "2015    129208\n",
       "2016     68751\n",
       "2014     18825\n",
       "Name: starttime, dtype: int64"
      ]
     },
     "execution_count": 37,
     "metadata": {},
     "output_type": "execute_result"
    }
   ],
   "source": [
    "new_df_trip.groupby(new_df_trip['starttime'].dt.year)['starttime'].count().nlargest()"
   ]
  },
  {
   "cell_type": "markdown",
   "metadata": {},
   "source": [
    "### 6. Розрахуйте загальну кількість поїздок для кожного типу користувачів та згенеруйте відповідну таблицю розподілу"
   ]
  },
  {
   "cell_type": "code",
   "execution_count": 38,
   "metadata": {},
   "outputs": [
    {
     "data": {
      "text/plain": [
       "usertype\n",
       "Member                    142893\n",
       "Short-Term Pass Holder     73891\n",
       "Name: usertype, dtype: int64"
      ]
     },
     "execution_count": 38,
     "metadata": {},
     "output_type": "execute_result"
    }
   ],
   "source": [
    "new_df_trip.groupby('usertype')['usertype'].count().nlargest()"
   ]
  },
  {
   "cell_type": "markdown",
   "metadata": {},
   "source": [
    "### 7. Визначте місяць з максимальною кількістю дощових днів. Згенеруйте таблицю кількості дощових днів за місяцями"
   ]
  },
  {
   "cell_type": "code",
   "execution_count": 39,
   "metadata": {},
   "outputs": [
    {
     "data": {
      "text/plain": [
       "Date\n",
       "December    42\n",
       "February    41\n",
       "March       39\n",
       "November    38\n",
       "January     34\n",
       "Name: Date, dtype: int64"
      ]
     },
     "execution_count": 39,
     "metadata": {},
     "output_type": "execute_result"
    }
   ],
   "source": [
    "df_weather[df_weather['Events'].str.contains('Rain')].groupby(df_weather['Date'].dt.strftime('%B'))['Date'].count().nlargest()"
   ]
  },
  {
   "cell_type": "markdown",
   "metadata": {},
   "source": [
    "### 8. Визначте день тижня з максимальною кількістю дощових днів. Згенеруйте таблицю кількості дощових днів за днями тижня"
   ]
  },
  {
   "cell_type": "code",
   "execution_count": 40,
   "metadata": {},
   "outputs": [
    {
     "data": {
      "text/plain": [
       "Date\n",
       "Friday      49\n",
       "Monday      48\n",
       "Saturday    45\n",
       "Tuesday     45\n",
       "Thursday    43\n",
       "Name: Date, dtype: int64"
      ]
     },
     "execution_count": 40,
     "metadata": {},
     "output_type": "execute_result"
    }
   ],
   "source": [
    "df_weather[df_weather['Events'].str.contains('Rain')].groupby(df_weather['Date'].dt.strftime('%A'))['Date'].count().nlargest()"
   ]
  },
  {
   "cell_type": "markdown",
   "metadata": {},
   "source": [
    "### 9. Визначте рік в якому кількість дощових днів була максимальною. Згенеруйте таблицю кількості дощових днів за роками"
   ]
  },
  {
   "cell_type": "code",
   "execution_count": 41,
   "metadata": {},
   "outputs": [
    {
     "data": {
      "text/plain": [
       "Date\n",
       "2015    159\n",
       "2016    100\n",
       "2014     51\n",
       "Name: Date, dtype: int64"
      ]
     },
     "execution_count": 41,
     "metadata": {},
     "output_type": "execute_result"
    }
   ],
   "source": [
    "df_weather[df_weather['Events'].str.contains('Rain')].groupby(df_weather['Date'].dt.year)['Date'].count().nlargest()"
   ]
  },
  {
   "cell_type": "markdown",
   "metadata": {},
   "source": [
    "### 10. Розрахуйте загальну кількість поїздок за віком (для трьох вікових категорій: молоді, середній вік, похилий вік) та згенеруйте відповідну таблицю розподілу"
   ]
  },
  {
   "cell_type": "code",
   "execution_count": 42,
   "metadata": {},
   "outputs": [
    {
     "data": {
      "text/plain": [
       "count    142889.000000\n",
       "mean       1979.944768\n",
       "std          10.066026\n",
       "min        1936.000000\n",
       "25%        1975.000000\n",
       "50%        1983.000000\n",
       "75%        1987.000000\n",
       "max        1999.000000\n",
       "Name: birthyear, dtype: float64"
      ]
     },
     "execution_count": 42,
     "metadata": {},
     "output_type": "execute_result"
    }
   ],
   "source": [
    "new_df_trip['birthyear'].describe()"
   ]
  },
  {
   "cell_type": "code",
   "execution_count": 43,
   "metadata": {},
   "outputs": [],
   "source": [
    "def fun(x):\n",
    "    if x < 1979:\n",
    "        return 'Old'\n",
    "    if x >= 1979 and x  < 1986:\n",
    "        return 'Middle'\n",
    "    if x >=1986:\n",
    "        return 'Young'"
   ]
  },
  {
   "cell_type": "code",
   "execution_count": 44,
   "metadata": {},
   "outputs": [
    {
     "data": {
      "text/plain": [
       "age_group\n",
       "Young     50872\n",
       "Old       47667\n",
       "Middle    44350\n",
       "Name: count, dtype: int64"
      ]
     },
     "execution_count": 44,
     "metadata": {},
     "output_type": "execute_result"
    }
   ],
   "source": [
    "new_df_trip['age_group'] = new_df_trip['birthyear'].map(fun)\n",
    "new_df_trip['age_group'].value_counts()"
   ]
  }
 ],
 "metadata": {
  "kernelspec": {
   "display_name": "Python 3 (ipykernel)",
   "language": "python",
   "name": "python3"
  },
  "language_info": {
   "codemirror_mode": {
    "name": "ipython",
    "version": 3
   },
   "file_extension": ".py",
   "mimetype": "text/x-python",
   "name": "python",
   "nbconvert_exporter": "python",
   "pygments_lexer": "ipython3",
   "version": "3.11.2"
  }
 },
 "nbformat": 4,
 "nbformat_minor": 4
}
